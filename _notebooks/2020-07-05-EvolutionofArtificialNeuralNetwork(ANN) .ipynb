{
 "cells": [
  {
   "cell_type": "markdown",
   "id": "b8454cfc",
   "metadata": {},
   "source": [
    "# Evolution of Artificial Neural Network(ANN) \n",
    "> An introduction to the world of Deep Learning.\n",
    "\n",
    "* toc: true\n",
    "* badges: true\n",
    "* comments: true"
   ]
  },
  {
   "cell_type": "markdown",
   "id": "eaa4d279",
   "metadata": {},
   "source": [
    "## Artificial Intelligence\n",
    "\n",
    "\n",
    "Artificial intelligence (AI) is a  branch of computer science capable of performing tasks that typically require human intelligence.\n",
    "\n",
    "\n",
    "\n",
    "## What is Deep Learning?\n",
    "\n",
    "> deep learning is a more approachable name for an artificial neural network. The “deep” in deep learning refers to the depth of the network. An artificial neural network can be very shallow.\n",
    "\n",
    "* Machine learning is the science of getting computers to act without being explicitly programmed.\n",
    "\n",
    "## ANN: Artificial Neural Networks\n",
    "\n",
    "* ANNs are inspired by biological neurons found in cerebral cortex of our brain.\n",
    "\n",
    "\n",
    "\n",
    "\n",
    "* A neuron or nerve cell is an electrically excitable cell that communicates with other cells via specialized connections called synapses.\n",
    "* ANNs are **core of deep learning**. Hence one of the most important topic to understand.\n",
    "\n",
    "## Perceptron\n",
    "**A Perceptron is one of the simplese ANN architectures, invented in 1957 by Frank Rosenblatt.**\n",
    "> A perceptron works similar to a biological neuron. A biological neuron receives electrical signals from its *dendriles*, modulates the electrical signals in various amounts, and then fires an output signal through its *synapses* only when the total strength of the input signals exceeds a certain threshold. The output is then fed to another neuron, and so forth.\n",
    "\n",
    "**How Peceptron Works?**\n",
    "The perceptron's learning logic goes like this:\n",
    "\n",
    "1. The neuron calculate the weighted sum and applies the activation function to make a prediction y<sup>^</sup>. This is called the feedforward process:\n",
    "\n",
    "$$y\\hat{} =  activation\\left(\\sum\\nolimits x_i \\cdot w_i + b\\right)$$\n",
    "\n",
    "\n",
    "2. It compares the output prediction with the correct label to calculate the error:\n",
    "\n",
    "$$error = y-y\\hat{}$$\n",
    "\n",
    "3. It then update the weight. If the prediction is too high, it adjust the weight to make a lower prediction the next time, and vice versa.\n",
    "\n",
    "4. Repeat!\n"
   ]
  },
  {
   "cell_type": "markdown",
   "id": "69ceeb81",
   "metadata": {},
   "source": [
    "Here's how a since perceptron works to classify two classes : \n",
    "\n",
    "**Drawback of perceptron.**\n",
    "Sometimes its not possible to get desired result with only perceptron. In the below example you can see the \n",
    "model in not able to draw a line to classify the data(linearly inseperable data)\n",
    "\n",
    "**Indroduction of ANN**\n",
    "If you increase the number of neuron then you cann see model works pretty well. The stack of more than one neuron is called Multi Layer Perceptron or ANN.\n",
    "\n",
    "**ANN using Keras**"
   ]
  },
  {
   "cell_type": "code",
   "execution_count": 3,
   "id": "fe46189a",
   "metadata": {},
   "outputs": [
    {
     "name": "stderr",
     "output_type": "stream",
     "text": [
      "c:\\users\\sonu.ramkumar.jha\\desktop\\experiments\\env\\lib\\site-packages\\numpy\\_distributor_init.py:30: UserWarning: loaded more than 1 DLL from .libs:\n",
      "c:\\users\\sonu.ramkumar.jha\\desktop\\experiments\\env\\lib\\site-packages\\numpy\\.libs\\libopenblas.GK7GX5KEQ4F6UYO3P26ULGBQYHGQO7J4.gfortran-win_amd64.dll\n",
      "c:\\users\\sonu.ramkumar.jha\\desktop\\experiments\\env\\lib\\site-packages\\numpy\\.libs\\libopenblas.WCDJNK7YVMPZQ2ME2ZZHJJRJ3JIKNDB7.gfortran-win_amd64.dll\n",
      "  warnings.warn(\"loaded more than 1 DLL from .libs:\"\n"
     ]
    },
    {
     "name": "stdout",
     "output_type": "stream",
     "text": [
      "2.5.0\n",
      "Model: \"sequential\"\n",
      "_________________________________________________________________\n",
      "Layer (type)                 Output Shape              Param #   \n",
      "=================================================================\n",
      "flatten (Flatten)            (None, 784)               0         \n",
      "_________________________________________________________________\n",
      "dense (Dense)                (None, 128)               100480    \n",
      "_________________________________________________________________\n",
      "dense_1 (Dense)              (None, 10)                1290      \n",
      "=================================================================\n",
      "Total params: 101,770\n",
      "Trainable params: 101,770\n",
      "Non-trainable params: 0\n",
      "_________________________________________________________________\n"
     ]
    }
   ],
   "source": [
    "# TensorFlow and tf.keras\n",
    "import tensorflow as tf\n",
    "\n",
    "# Helper libraries\n",
    "import numpy as np\n",
    "from tensorflow.keras import initializers\n",
    "from tensorflow.python.keras import activations\n",
    "\n",
    "print(tf.__version__)\n",
    "\n",
    "# downloading fashion_mnist data\n",
    "fashion_mnist = tf.keras.datasets.fashion_mnist\n",
    "\n",
    "(train_images, train_labels), (test_images, test_labels) = fashion_mnist.load_data()\n",
    "\n",
    "class_names = ['T-shirt/top', 'Trouser', 'Pullover', 'Dress', 'Coat',\n",
    "               'Sandal', 'Shirt', 'Sneaker', 'Bag', 'Ankle boot']\n",
    "\n",
    "train_images = train_images / 255.0\n",
    "\n",
    "test_images = test_images / 255.0 \n",
    "\n",
    "activation = tf.keras.activations.relu\n",
    "\n",
    "model = tf.keras.Sequential([\n",
    "tf.keras.layers.Flatten(input_shape=(28, 28)),\n",
    "tf.keras.layers.Dense(128, activation=activation),\n",
    "tf.keras.layers.Dense(10)\n",
    "])\n",
    "\n",
    "model.compile(optimizer='adam',loss=tf.keras.losses.SparseCategoricalCrossentropy(from_logits=True),metrics=['accuracy'])\n",
    "\n",
    "# model summary\n",
    "model.summary()"
   ]
  },
  {
   "cell_type": "code",
   "execution_count": 4,
   "id": "c0065e34",
   "metadata": {},
   "outputs": [
    {
     "name": "stdout",
     "output_type": "stream",
     "text": [
      "Epoch 1/10\n",
      "1875/1875 [==============================] - 4s 2ms/step - loss: 0.5000 - accuracy: 0.8255\n",
      "Epoch 2/10\n",
      "1875/1875 [==============================] - 3s 1ms/step - loss: 0.3751 - accuracy: 0.8645\n",
      "Epoch 3/10\n",
      "1875/1875 [==============================] - 3s 2ms/step - loss: 0.3388 - accuracy: 0.8773\n",
      "Epoch 4/10\n",
      "1875/1875 [==============================] - 3s 2ms/step - loss: 0.3142 - accuracy: 0.8843\n",
      "Epoch 5/10\n",
      "1875/1875 [==============================] - 3s 2ms/step - loss: 0.2957 - accuracy: 0.8922\n",
      "Epoch 6/10\n",
      "1875/1875 [==============================] - 3s 2ms/step - loss: 0.2797 - accuracy: 0.8971\n",
      "Epoch 7/10\n",
      "1875/1875 [==============================] - 3s 2ms/step - loss: 0.2685 - accuracy: 0.8991\n",
      "Epoch 8/10\n",
      "1875/1875 [==============================] - 3s 1ms/step - loss: 0.2577 - accuracy: 0.9028\n",
      "Epoch 9/10\n",
      "1875/1875 [==============================] - 3s 1ms/step - loss: 0.2476 - accuracy: 0.9076\n",
      "Epoch 10/10\n",
      "1875/1875 [==============================] - 3s 1ms/step - loss: 0.2388 - accuracy: 0.9105\n",
      "313/313 - 0s - loss: 0.3403 - accuracy: 0.8798\n",
      "test_loss 0.34025073051452637\n",
      "test_accuracy 0.879800021648407\n"
     ]
    }
   ],
   "source": [
    "model.fit(train_images, train_labels, epochs=10)\n",
    "\n",
    "test_loss, test_acc = model.evaluate(test_images,  test_labels, verbose=2)\n",
    "\n",
    "print('test_loss', test_loss)\n",
    "print('test_accuracy', test_acc)"
   ]
  },
  {
   "cell_type": "code",
   "execution_count": null,
   "id": "e55f02b4",
   "metadata": {},
   "outputs": [],
   "source": []
  }
 ],
 "metadata": {
  "kernelspec": {
   "display_name": "Python 3",
   "language": "python",
   "name": "python3"
  },
  "language_info": {
   "codemirror_mode": {
    "name": "ipython",
    "version": 3
   },
   "file_extension": ".py",
   "mimetype": "text/x-python",
   "name": "python",
   "nbconvert_exporter": "python",
   "pygments_lexer": "ipython3",
   "version": "3.9.5"
  }
 },
 "nbformat": 4,
 "nbformat_minor": 5
}
