{
 "cells": [
  {
   "cell_type": "markdown",
   "id": "b8454cfc",
   "metadata": {},
   "source": [
    "# Evolution of Artificial Neural Network(ANN) \n",
    "> An introduction to the world of Deep Learning.\n",
    "\n",
    "* toc: true\n",
    "* badges: true\n",
    "* comments: true"
   ]
  },
  {
   "cell_type": "markdown",
   "id": "c557bb68",
   "metadata": {},
   "source": [
    "## Artificial Intelligence\n",
    "\n",
    "\n",
    "Artificial intelligence (AI) is a  branch of computer science capable of performing tasks that typically require human intelligence.\n",
    "\n",
    "\n",
    "\n",
    "## What is Deep Learning?\n",
    "\n",
    "> deep learning is a more approachable name for an artificial neural network. The “deep” in deep learning refers to the depth of the network. An artificial neural network can be very shallow.\n",
    "\n",
    "* Machine learning is the science of getting computers to act without being explicitly programmed.\n",
    "\n",
    "## ANN: Artificial Neural Networks\n",
    "\n",
    "* ANNs are inspired by biological neurons found in cerebral cortex of our brain.\n",
    "\n",
    "\n",
    "\n",
    "\n",
    "* A neuron or nerve cell is an electrically excitable cell that communicates with other cells via specialized connections called synapses.\n",
    "* ANNs are **core of deep learning**. Hence one of the most important topic to understand.\n",
    "\n",
    "## Perceptron\n",
    "**A Perceptron is one of the simplese ANN architectures, invented in 1957 by Frank Rosenblatt.**\n",
    "> A perceptron works similar to a biological neuron. A biological neuron receives electrical signals from its *dendriles*, modulates the electrical signals in various amounts, and then fires an output signal through its *synapses* only when the total strength of the input signals exceeds a certain threshold. The output is then fed to another neuron, and so forth.\n"
   ]
  },
  {
   "cell_type": "code",
   "execution_count": null,
   "id": "86d97c7b",
   "metadata": {},
   "outputs": [],
   "source": []
  }
 ],
 "metadata": {
  "kernelspec": {
   "display_name": "Python 3",
   "language": "python",
   "name": "python3"
  },
  "language_info": {
   "codemirror_mode": {
    "name": "ipython",
    "version": 3
   },
   "file_extension": ".py",
   "mimetype": "text/x-python",
   "name": "python",
   "nbconvert_exporter": "python",
   "pygments_lexer": "ipython3",
   "version": "3.9.5"
  }
 },
 "nbformat": 4,
 "nbformat_minor": 5
}
