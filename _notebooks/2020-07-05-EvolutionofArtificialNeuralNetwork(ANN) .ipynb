{
 "cells": [
  {
   "cell_type": "markdown",
   "id": "b8454cfc",
   "metadata": {},
   "source": [
    "# Evolution of Artificial Neural Network(ANN) \n",
    "> An introduction to the world of Deep Learning.\n",
    "\n",
    "* toc: true\n",
    "* badges: true\n",
    "* comments: true"
   ]
  },
  {
   "cell_type": "markdown",
   "id": "58cf0bb6",
   "metadata": {},
   "source": [
    "## Artificial Intelligence\n",
    "\n",
    "\n",
    "Artificial intelligence (AI) is a  branch of computer science capable of performing tasks that typically require human intelligence.\n",
    "\n",
    "<img src=\"https://www.safaribooksonline.com/library/view/deep-learning/9781491924570/assets/dpln_0101.png\" width=50%>\n",
    "\n",
    "## What is Deep Learning?\n",
    "\n",
    "> deep learning is a more approachable name for an artificial neural network. The “deep” in deep learning refers to the depth of the network. An artificial neural network can be very shallow.\n",
    "\n",
    "* Machine learning is the science of getting computers to act without being explicitly programmed.\n",
    "\n",
    "## ANN: Artificial Neural Networks\n",
    "\n",
    "* ANNs are inspired by biological neurons found in cerebral cortex of our brain.\n",
    "\n",
    "<img src=\"https://upload.wikimedia.org/wikipedia/commons/thumb/1/10/Blausen_0657_MultipolarNeuron.png/1200px-Blausen_0657_MultipolarNeuron.png\" width=50%>\n",
    "\n",
    "\n",
    "* A neuron or nerve cell is an electrically excitable cell that communicates with other cells via specialized connections called synapses.\n",
    "* ANNs are **core of deep learning**. Hence one of the most important topic to understand."
   ]
  },
  {
   "cell_type": "code",
   "execution_count": null,
   "id": "a04b1e0b",
   "metadata": {},
   "outputs": [],
   "source": []
  }
 ],
 "metadata": {
  "kernelspec": {
   "display_name": "Python 3",
   "language": "python",
   "name": "python3"
  },
  "language_info": {
   "codemirror_mode": {
    "name": "ipython",
    "version": 3
   },
   "file_extension": ".py",
   "mimetype": "text/x-python",
   "name": "python",
   "nbconvert_exporter": "python",
   "pygments_lexer": "ipython3",
   "version": "3.9.5"
  }
 },
 "nbformat": 4,
 "nbformat_minor": 5
}
