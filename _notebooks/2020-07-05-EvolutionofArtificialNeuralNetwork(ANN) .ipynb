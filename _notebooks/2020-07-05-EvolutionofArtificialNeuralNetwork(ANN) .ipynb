{
 "cells": [
  {
   "cell_type": "markdown",
   "id": "b8454cfc",
   "metadata": {},
   "source": [
    "# Evolution of Artificial Neural Network(ANN) \n",
    "> An introduction to the world of Deep Learning.\n",
    "\n",
    "* toc: true\n",
    "* badges: true\n",
    "* comments: true"
   ]
  },
  {
   "cell_type": "markdown",
   "id": "9cc31df1",
   "metadata": {},
   "source": [
    "## Artificial Intelligence\n",
    "\n",
    "\n",
    "Artificial intelligence (AI) is a  branch of computer science capable of performing tasks that typically require human intelligence."
   ]
  },
  {
   "cell_type": "code",
   "execution_count": null,
   "id": "457e4fcc",
   "metadata": {},
   "outputs": [],
   "source": []
  }
 ],
 "metadata": {
  "kernelspec": {
   "display_name": "Python 3",
   "language": "python",
   "name": "python3"
  },
  "language_info": {
   "codemirror_mode": {
    "name": "ipython",
    "version": 3
   },
   "file_extension": ".py",
   "mimetype": "text/x-python",
   "name": "python",
   "nbconvert_exporter": "python",
   "pygments_lexer": "ipython3",
   "version": "3.9.5"
  }
 },
 "nbformat": 4,
 "nbformat_minor": 5
}
