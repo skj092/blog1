{
 "cells": [
  {
   "cell_type": "markdown",
   "metadata": {},
   "source": [
    "# Object Detection\n",
    "> An introduction to the world of Deep Learning.\n",
    "\n",
    "* toc: true\n",
    "* badges: true\n",
    "* comments: true"
   ]
  },
  {
   "cell_type": "markdown",
   "metadata": {},
   "source": [
    "Object detection is a computer vision task that involves two tasks: \n",
    "* 1. Localizing one or more objects within an image, and \n",
    "* 2. Classifying each object in the image"
   ]
  },
  {
   "cell_type": "markdown",
   "metadata": {},
   "source": [
    "### YOLO"
   ]
  },
  {
   "cell_type": "markdown",
   "metadata": {},
   "source": [
    "YOLO is a family of object detection networks that improved over the years throught the following version; YOLOv1, YOLOv2, YOLOv3 and YOLOv4. The YOLO family of models is a series of end-to-end deep learning models designed for fast object detection, developed by Joseph Redmon, etal. Thought is is no longer the most accurate object detection algorithms, it is a very good choice when you need real-time detection, withoug loss of too much accuracy. "
   ]
  },
  {
   "cell_type": "markdown",
   "metadata": {},
   "source": [
    "**How it works**"
   ]
  },
  {
   "cell_type": "markdown",
   "metadata": {},
   "source": [
    "YOLO first generate potential bounding boxes in an image and then run a classifier on these proposed boxes. \n",
    "After classification, post-processsing is used to refine the bounding boxes, eliminate duplicate detctions and rescore the bxes based on other \n",
    "objects in the scene."
   ]
  },
  {
   "cell_type": "markdown",
   "metadata": {},
   "source": [
    "1. Divide the image into number of SxS cells\n",
    "2. IF Center of an object falls into a grid cess, that grid cell is responsible for detecting that object.\n",
    "3. Each grid cell predict B bounding boxes and conficence score for those boxes. \n",
    "4. If no object exists in that cess, the conficence score should be zero othersise confidence score is equal to Pr(Object)*IoU*(truth|pred)\n",
    "5. Each bounding box consists of 5 prediction: x,y,w,h and confidnece. The (x,y) coordinates represent the center of the box relative to the bounds of grid cell. The width and height are predicted relative to the whole image. Finally the conficence preeiction represents the IoU between the predicted box and ground truth box. "
   ]
  },
  {
   "cell_type": "markdown",
   "metadata": {},
   "source": [
    "Each grid cess also predict C conditional class probabilities, Pr(class|Object). YOLO predict only one set of class probabilities per grid cess,\n",
    "regredless of the number of boxes B. \n",
    "At test time it multiply the conditional class probabilityies and the indivicual box conficence prediction."
   ]
  },
  {
   "cell_type": "markdown",
   "metadata": {},
   "source": [
    "For example: To evluate Pascal VOC, YOLO Paper used S = 7, B = 2, and Pascal VOC has 20 label so C=20\n",
    "1. The image will be divided into 7x7 cell\n",
    "2. For B = 2, each grid cell will predict 2 bounding box and confidence score for each. \n",
    "3. The bounding box  contain (x, y, w, h and conficence) for each grid cell. So the output vector so far is 7x7x(2x5)\n",
    "4. Each grid cess also predict 1 Conditional class probabilities for each class. So the output vector will be 7x7x(2x5+C)\n",
    "But C = 20 for Pascal VOC so the final output vector will be 7X7X(2X5+20) = 7x7x30 "
   ]
  },
  {
   "cell_type": "markdown",
   "metadata": {},
   "source": [
    "**Architecture**"
   ]
  },
  {
   "cell_type": "markdown",
   "metadata": {},
   "source": []
  }
 ],
 "metadata": {
  "language_info": {
   "name": "python"
  },
  "orig_nbformat": 4
 },
 "nbformat": 4,
 "nbformat_minor": 2
}
