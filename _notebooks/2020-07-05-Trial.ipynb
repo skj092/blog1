{
 "cells": [
  {
   "cell_type": "markdown",
   "id": "b8454cfc",
   "metadata": {},
   "source": [
    "# Aim : To Study the Evolution of Artificial Neural Network(ANN) \n",
    "\n",
    "> An introduction to the world of Deep Learning,\n",
    "\n",
    "* toc: true"
   ]
  }
 ],
 "metadata": {
  "kernelspec": {
   "display_name": "Python 3",
   "language": "python",
   "name": "python3"
  },
  "language_info": {
   "codemirror_mode": {
    "name": "ipython",
    "version": 3
   },
   "file_extension": ".py",
   "mimetype": "text/x-python",
   "name": "python",
   "nbconvert_exporter": "python",
   "pygments_lexer": "ipython3",
   "version": "3.9.5"
  }
 },
 "nbformat": 4,
 "nbformat_minor": 5
}
