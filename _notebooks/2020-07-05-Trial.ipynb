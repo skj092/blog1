{
 "cells": [
  {
   "cell_type": "markdown",
   "id": "b8454cfc",
   "metadata": {},
   "source": [
    "# Zero to Hero with `fastai` - Beginner\n",
    "> An introduction to the world of Deep Learning, what the `fastai` library is, and the problems it attempts to solve\n",
    "\n",
    "* toc: true\n",
    "* badges: true\n",
    "* comments: true"
   ]
  },
  {
   "cell_type": "markdown",
   "id": "6479d836",
   "metadata": {},
   "source": [
    "## Zero to Hero\n",
    "\n",
    "The \"Zero to Hero\" series is a collection of three seperate articles geared towards getting anyone familair with the `fastai` library based upon their skill sets. This article is geared towards those who have barely heard of \"Deep Learning\" and have zero experience with frameworks. The [intermediate](https://muellerzr.github.io/fastblog/2020/08/20/_08_21-intermediate.html) article comes from a perspective of those who utilized the original fastai library in the past and understand the broad strokes of the library. Finally, the last article will briefly explain the advanced artifacts inside of `fastai` and how they all function. \n"
   ]
  },
  {
   "cell_type": "code",
   "execution_count": null,
   "id": "eb753ceb",
   "metadata": {},
   "outputs": [],
   "source": []
  }
 ],
 "metadata": {
  "kernelspec": {
   "display_name": "Python 3",
   "language": "python",
   "name": "python3"
  },
  "language_info": {
   "codemirror_mode": {
    "name": "ipython",
    "version": 3
   },
   "file_extension": ".py",
   "mimetype": "text/x-python",
   "name": "python",
   "nbconvert_exporter": "python",
   "pygments_lexer": "ipython3",
   "version": "3.9.5"
  }
 },
 "nbformat": 4,
 "nbformat_minor": 5
}
